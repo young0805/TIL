{
 "cells": [
  {
   "cell_type": "markdown",
   "metadata": {},
   "source": [
    "SQL 데이터 링크 : https://www.w3schools.com/sql/trysql.asp?filename=trysql_op_in"
   ]
  },
  {
   "cell_type": "markdown",
   "metadata": {},
   "source": [
    "<BR><BR>\n",
    "    \n",
    "---------------------\n",
    "\n",
    "# CASE : 조건\n",
    "\n",
    "#### case 문에서는 when절의 순서가 매우 중요하다. \n",
    "#### 이럴 때는 해당하는 갯수가 가정 적은 when절을 먼저 쓴다"
   ]
  },
  {
   "cell_type": "code",
   "execution_count": 3,
   "metadata": {},
   "outputs": [
    {
     "data": {
      "text/plain": [
       "'case 문 구조\\nSELECT CASE\\n            WHEN  ~~~~\\n            WHEN  ~~~~\\n        END\\nFROM\\n\\n'"
      ]
     },
     "execution_count": 3,
     "metadata": {},
     "output_type": "execute_result"
    }
   ],
   "source": [
    "'''case 문 구조\n",
    "SELECT CASE\n",
    "            WHEN  ~~~~\n",
    "            WHEN  ~~~~\n",
    "        END\n",
    "FROM\n",
    "\n",
    "'''\n"
   ]
  },
  {
   "cell_type": "markdown",
   "metadata": {},
   "source": [
    "## CASE문 예시"
   ]
  },
  {
   "cell_type": "code",
   "execution_count": 1,
   "metadata": {},
   "outputs": [
    {
     "data": {
      "text/plain": [
       "\"\\nSELECT CASE \\n            WHEN categoryid = 1 THEN '음료'\\n            WHEN categoryid = 2 THEN '조미료'\\n            ELSE '기타'\\n       END, *\\nFROM Products\\n\""
      ]
     },
     "execution_count": 1,
     "metadata": {},
     "output_type": "execute_result"
    }
   ],
   "source": [
    "'''\n",
    "SELECT CASE \n",
    "            WHEN categoryid = 1 THEN '음료'\n",
    "            WHEN categoryid = 2 THEN '조미료'\n",
    "            ELSE '기타'\n",
    "       END AS 'categoryidName', *  --- case문 컬럼 별칭\n",
    "FROM Products\n",
    "'''"
   ]
  },
  {
   "cell_type": "markdown",
   "metadata": {},
   "source": [
    "## CASE문 예시 : AND"
   ]
  },
  {
   "cell_type": "code",
   "execution_count": 4,
   "metadata": {
    "scrolled": true
   },
   "outputs": [
    {
     "data": {
      "text/plain": [
       "\"\\nSELECT CASE \\n            WHEN categoryid = 1 AND SupplierID = 1 THEN '음료'\\n            WHEN categoryid = 2 THEN '조미료'\\n            ELSE '기타'\\n       END AS 'categoryidName', *  \\nFROM Products\\n\""
      ]
     },
     "execution_count": 4,
     "metadata": {},
     "output_type": "execute_result"
    }
   ],
   "source": [
    "'''\n",
    "SELECT CASE \n",
    "            WHEN categoryid = 1 AND SupplierID = 1 THEN '음료' -- 두 조건을 만족할 때만, 음료\n",
    "            WHEN categoryid = 2 THEN '조미료'\n",
    "            ELSE '기타'\n",
    "       END AS 'categoryidName', *  \n",
    "FROM Products\n",
    "'''"
   ]
  },
  {
   "cell_type": "markdown",
   "metadata": {},
   "source": [
    "## CASE 예시 : CASE + GROUP BY"
   ]
  },
  {
   "cell_type": "markdown",
   "metadata": {},
   "source": [
    "CASE문으로 컬럼을 만들어주고, 그 컬럼을 GORUP BY 할 수 있다.\n",
    "<BR>\n",
    "\n",
    "카테고리 별로 1,2,논외 나눠주고 그 컬럼들의 평균 가격들을 구해라"
   ]
  },
  {
   "cell_type": "code",
   "execution_count": 5,
   "metadata": {},
   "outputs": [
    {
     "data": {
      "text/plain": [
       "\"\\nSELECT CASE\\n            WHEN categoryid = 1 THEN '음료'\\n            WHEN categoryid = 2 THEN '소스'\\n            ELSE '논외'\\n        END AS new_category\\n        , AVG(Price)\\nFROM Products\\nGROUP BY new_category\\n\""
      ]
     },
     "execution_count": 5,
     "metadata": {},
     "output_type": "execute_result"
    }
   ],
   "source": [
    "'''\n",
    "SELECT CASE\n",
    "            WHEN categoryid = 1 THEN '음료'\n",
    "            WHEN categoryid = 2 THEN '소스'\n",
    "            ELSE '논외'\n",
    "        END AS new_category\n",
    "        , AVG(Price)\n",
    "FROM Products\n",
    "GROUP BY new_category\n",
    "'''"
   ]
  },
  {
   "cell_type": "markdown",
   "metadata": {},
   "source": [
    "<BR><BR>\n",
    "\n",
    "---------"
   ]
  },
  {
   "cell_type": "markdown",
   "metadata": {},
   "source": [
    "# 문제 1 : 삼각형 문제"
   ]
  },
  {
   "cell_type": "markdown",
   "metadata": {},
   "source": [
    "https://www.hackerrank.com/challenges/what-type-of-triangle/problem?h_r=internal-search"
   ]
  },
  {
   "cell_type": "markdown",
   "metadata": {},
   "source": [
    "**when절의 순서가 매우 중요하다**\n",
    "\n",
    "- 정삼각형 , 이등변, 삼각형, 삼각형이 안된다 조건문을 만들어라"
   ]
  },
  {
   "cell_type": "code",
   "execution_count": null,
   "metadata": {},
   "outputs": [],
   "source": [
    "'''\n",
    "SELECT CASE\n",
    "            WHEN A = B AND B = C THEN 'Equilateral'\n",
    "            WHEN A + B <= C OR A + C <= B OR B + C <= A  THEN 'NOT a Triangle'\n",
    "            WHEN A = B OR B = C OR A = C THEN 'Isosceles'\n",
    "            ELSE 'Scalene'\n",
    "        END , A, B, C  --- Sql 문제를 풀 때 출력값을 한번 뽑아서 확인하자\n",
    "FROM Triangles\n",
    "'''"
   ]
  }
 ],
 "metadata": {
  "kernelspec": {
   "display_name": "Python 3",
   "language": "python",
   "name": "python3"
  },
  "language_info": {
   "codemirror_mode": {
    "name": "ipython",
    "version": 3
   },
   "file_extension": ".py",
   "mimetype": "text/x-python",
   "name": "python",
   "nbconvert_exporter": "python",
   "pygments_lexer": "ipython3",
   "version": "3.7.4"
  }
 },
 "nbformat": 4,
 "nbformat_minor": 2
}
