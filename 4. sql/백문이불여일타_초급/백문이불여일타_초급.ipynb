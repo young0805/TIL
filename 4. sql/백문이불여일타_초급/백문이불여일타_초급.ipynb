{
 "cells": [
  {
   "cell_type": "markdown",
   "metadata": {},
   "source": [
    "# SQL의 예약어는 대문자로 써줄 것\n"
   ]
  },
  {
   "cell_type": "markdown",
   "metadata": {},
   "source": [
    "sql 테이블 \n",
    "\n",
    "https://www.w3schools.com/sql/trysql.asp?filename=trysql_op_in\n",
    "\n",
    "\n",
    "<br><br>\n",
    "\n",
    "-------"
   ]
  },
  {
   "cell_type": "markdown",
   "metadata": {},
   "source": [
    "# SELECT, FROM"
   ]
  },
  {
   "cell_type": "markdown",
   "metadata": {},
   "source": [
    "### 문제 1"
   ]
  },
  {
   "cell_type": "markdown",
   "metadata": {},
   "source": [
    "https://www.hackerrank.com/challenges/select-all-sql/problem"
   ]
  },
  {
   "cell_type": "code",
   "execution_count": null,
   "metadata": {},
   "outputs": [],
   "source": [
    "SELECT *\n",
    "FROM city"
   ]
  },
  {
   "cell_type": "markdown",
   "metadata": {},
   "source": [
    "### 문제 2\n",
    "https://www.hackerrank.com/challenges/weather-observation-station-1/problem"
   ]
  },
  {
   "cell_type": "code",
   "execution_count": null,
   "metadata": {},
   "outputs": [],
   "source": [
    "SELECT city, state\n",
    "FROM station"
   ]
  },
  {
   "cell_type": "markdown",
   "metadata": {},
   "source": [
    "-----------------------------------------------"
   ]
  },
  {
   "cell_type": "markdown",
   "metadata": {},
   "source": [
    "# WHERE : 특정 조건\n",
    "\n",
    "## 비교 연산자 : =, <=, >=, < , >\n",
    "- 특정 컬럼이 특정 값을 가지는 데이터만 불러오기 위해서 사용\n",
    "- 숫자 뿐 만 아니라 문자도 가능\n",
    "\n",
    "## 논리연산자 : AND , OR ,NOT\n",
    "-AND : ?\n",
    "-OR : "
   ]
  },
  {
   "cell_type": "code",
   "execution_count": 4,
   "metadata": {},
   "outputs": [
    {
     "data": {
      "text/plain": [
       "\"SQL\\n\\nSELECT *\\nFROM Customers\\nWHERE City < 'S' AND CustomerID\\t> 20 # 알파벳 순서 S 이전, 아이디 20 이상 조건 둘 다 만족\\n\\n\""
      ]
     },
     "execution_count": 4,
     "metadata": {},
     "output_type": "execute_result"
    }
   ],
   "source": [
    "'''SQL\n",
    "\n",
    "SELECT *\n",
    "FROM Customers\n",
    "WHERE City < 'S' AND CustomerID\t> 20 # 알파벳 순서 S 이전, 아이디 20 이상 조건 둘 다 만족\n",
    "\n",
    "'''"
   ]
  },
  {
   "cell_type": "markdown",
   "metadata": {},
   "source": [
    "---------------------------"
   ]
  },
  {
   "cell_type": "markdown",
   "metadata": {},
   "source": [
    "## LIKE : 문자열 패턴\n",
    "\n",
    "- % : 앞뒤 어떤 문자가 왔으면 좋겠다.\n",
    "\n",
    "와이드 카드라고 부르기도 한다"
   ]
  },
  {
   "cell_type": "markdown",
   "metadata": {},
   "source": [
    "### % 예시 "
   ]
  },
  {
   "cell_type": "code",
   "execution_count": 5,
   "metadata": {},
   "outputs": [
    {
     "data": {
      "text/plain": [
       "\"sql\\n\\nSELECT *\\nFROM Customers\\nWHERE country Like 's%'\\n\\n\""
      ]
     },
     "execution_count": 5,
     "metadata": {},
     "output_type": "execute_result"
    }
   ],
   "source": [
    "'''sql\n",
    "\n",
    "SELECT *\n",
    "FROM Customers\n",
    "WHERE country Like 's%' # s로 시작하는 나라를 보여줘라\n",
    "\n",
    "'''"
   ]
  },
  {
   "cell_type": "markdown",
   "metadata": {},
   "source": [
    "### _(언더바) : 빈 칸 맞추기\n",
    "\n",
    "- 예시 : 소_시대 -> 소녀시대"
   ]
  },
  {
   "cell_type": "code",
   "execution_count": 13,
   "metadata": {},
   "outputs": [
    {
     "data": {
      "text/plain": [
       "\"sql\\n\\nSELECT *\\nFROM Customers\\nWHERE country Like 's____' # s로 시작하는 S_____ 5글자가 나와라.\\n\\n\""
      ]
     },
     "execution_count": 13,
     "metadata": {},
     "output_type": "execute_result"
    }
   ],
   "source": [
    "'''sql\n",
    "\n",
    "SELECT *\n",
    "FROM Customers\n",
    "WHERE country Like 's____' # s로 시작하는 S_____ 5글자가 나와라.\n",
    "\n",
    "'''"
   ]
  },
  {
   "cell_type": "markdown",
   "metadata": {},
   "source": [
    "### = 예시 : 독일"
   ]
  },
  {
   "cell_type": "code",
   "execution_count": 14,
   "metadata": {},
   "outputs": [
    {
     "data": {
      "text/plain": [
       "\"sql\\n\\nSELECT *\\nFROM Customers\\nWHERE COUNTRY = 'Germany'\\n\\n\""
      ]
     },
     "execution_count": 14,
     "metadata": {},
     "output_type": "execute_result"
    }
   ],
   "source": [
    "'''sql\n",
    "\n",
    "SELECT *\n",
    "FROM Customers\n",
    "WHERE COUNTRY = 'Germany'\n",
    "\n",
    "'''"
   ]
  },
  {
   "cell_type": "markdown",
   "metadata": {},
   "source": [
    "### IN 예시 : 독일, 프랑스 "
   ]
  },
  {
   "cell_type": "code",
   "execution_count": 15,
   "metadata": {},
   "outputs": [
    {
     "data": {
      "text/plain": [
       "\"SQL\\n\\nSELECT *\\nFROM Customers\\nWHERE country IN ('Germany' , 'France')\\n\\n\""
      ]
     },
     "execution_count": 15,
     "metadata": {},
     "output_type": "execute_result"
    }
   ],
   "source": [
    "'''SQL\n",
    "\n",
    "SELECT *\n",
    "FROM Customers\n",
    "WHERE country IN ('Germany' , 'France')\n",
    "\n",
    "'''"
   ]
  },
  {
   "cell_type": "markdown",
   "metadata": {},
   "source": [
    "###### IN을 안 쓸 경우:"
   ]
  },
  {
   "cell_type": "code",
   "execution_count": 16,
   "metadata": {},
   "outputs": [
    {
     "data": {
      "text/plain": [
       "\"SQL\\n\\nSELECT *\\nFROM Customers\\nWHERE country ='Germany' OR country =  'France')\\n\\n\""
      ]
     },
     "execution_count": 16,
     "metadata": {},
     "output_type": "execute_result"
    }
   ],
   "source": [
    "'''SQL\n",
    "\n",
    "SELECT *\n",
    "FROM Customers\n",
    "WHERE country ='Germany' OR country =  'France')\n",
    "\n",
    "'''"
   ]
  },
  {
   "cell_type": "markdown",
   "metadata": {},
   "source": [
    "### BETWEEN"
   ]
  },
  {
   "cell_type": "code",
   "execution_count": 17,
   "metadata": {},
   "outputs": [
    {
     "data": {
      "text/plain": [
       "'\\nSELECT *\\nFROM Customers\\nWHERE CustomerID BETWEEN 3 AND 5\\n\\n'"
      ]
     },
     "execution_count": 17,
     "metadata": {},
     "output_type": "execute_result"
    }
   ],
   "source": [
    "'''\n",
    "SELECT *\n",
    "FROM Customers\n",
    "WHERE CustomerID BETWEEN 3 AND 5\n",
    "\n",
    "'''"
   ]
  },
  {
   "cell_type": "markdown",
   "metadata": {},
   "source": [
    "###### BETWEEN을 안 쓸 경우:"
   ]
  },
  {
   "cell_type": "code",
   "execution_count": 18,
   "metadata": {},
   "outputs": [
    {
     "data": {
      "text/plain": [
       "'\\nSELECT *\\nFROM Customers\\nWHERE CustomerID >= 3 AND CustomerID <=  5\\n\\n'"
      ]
     },
     "execution_count": 18,
     "metadata": {},
     "output_type": "execute_result"
    }
   ],
   "source": [
    "'''\n",
    "SELECT *\n",
    "FROM Customers\n",
    "WHERE CustomerID >= 3 AND CustomerID <=  5\n",
    "\n",
    "'''"
   ]
  },
  {
   "cell_type": "markdown",
   "metadata": {},
   "source": [
    "### ISNULL\n",
    "- NULL은 숫자도 아니고 문자도 아니다. 비어 있는 값이다."
   ]
  },
  {
   "cell_type": "code",
   "execution_count": 19,
   "metadata": {},
   "outputs": [
    {
     "data": {
      "text/plain": [
       "'\\nSELECT *\\nFROM Customers\\nWHERE CustomerID IS NULL\\n\\n'"
      ]
     },
     "execution_count": 19,
     "metadata": {},
     "output_type": "execute_result"
    }
   ],
   "source": [
    "'''\n",
    "SELECT *\n",
    "FROM Customers\n",
    "WHERE CustomerID IS NULL\n",
    "\n",
    "'''"
   ]
  },
  {
   "cell_type": "markdown",
   "metadata": {},
   "source": [
    "<BR><BR><BR>"
   ]
  },
  {
   "cell_type": "markdown",
   "metadata": {},
   "source": [
    "## 문제 1"
   ]
  },
  {
   "cell_type": "code",
   "execution_count": null,
   "metadata": {},
   "outputs": [],
   "source": []
  },
  {
   "cell_type": "code",
   "execution_count": null,
   "metadata": {},
   "outputs": [],
   "source": []
  },
  {
   "cell_type": "markdown",
   "metadata": {},
   "source": [
    "----------------------------"
   ]
  },
  {
   "cell_type": "code",
   "execution_count": null,
   "metadata": {},
   "outputs": [],
   "source": []
  }
 ],
 "metadata": {
  "kernelspec": {
   "display_name": "Python 3",
   "language": "python",
   "name": "python3"
  },
  "language_info": {
   "codemirror_mode": {
    "name": "ipython",
    "version": 3
   },
   "file_extension": ".py",
   "mimetype": "text/x-python",
   "name": "python",
   "nbconvert_exporter": "python",
   "pygments_lexer": "ipython3",
   "version": "3.7.4"
  }
 },
 "nbformat": 4,
 "nbformat_minor": 2
}
